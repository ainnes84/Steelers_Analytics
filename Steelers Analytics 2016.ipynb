{
 "cells": [
  {
   "cell_type": "markdown",
   "metadata": {},
   "source": [
    "# Steelers Analytics 2016\n",
    "This is my final project for my Data Visualization class. For this project we were tasked with the following: \n",
    "1.) Select a dataset of our choosing \n",
    "2.) Chop the dataset using pandas \n",
    "3.) Clean the dataset and drop missing values if needed \n",
    "4.) Create two types of visualization minimum \n",
    "5.) Create an excellent readme file \n",
    "6.) Push to Github and Kaggle"
   ]
  },
  {
   "cell_type": "markdown",
   "metadata": {},
   "source": [
    "## About the Dataset\n",
    "For this project I have chosen to use a dataset that includes detailed NFL Play-by-Play from 2009-2016.  The dataset contains all regular season plays from the 2009-2016 NFL seasons.  The dataset has 356,768 rows and 100 columns."
   ]
  },
  {
   "cell_type": "markdown",
   "metadata": {},
   "source": [
    "## Importing the Data"
   ]
  },
  {
   "cell_type": "code",
   "execution_count": 1,
   "metadata": {
    "collapsed": true
   },
   "outputs": [],
   "source": [
    "# First we must import the necessary modules for data manipulation and visual representation\n",
    "\n",
    "import pandas as pd\n",
    "import numpy as np\n",
    "import matplotlib.pyplot as plt\n",
    "import matplotlib as matplot\n",
    "import seaborn as sns\n",
    "%matplotlib inline"
   ]
  },
  {
   "cell_type": "code",
   "execution_count": 2,
   "metadata": {},
   "outputs": [
    {
     "name": "stdout",
     "output_type": "stream",
     "text": [
      "<class 'pandas.core.frame.DataFrame'>\n",
      "RangeIndex: 362447 entries, 0 to 362446\n",
      "Data columns (total 100 columns):\n",
      "Date                           362447 non-null object\n",
      "GameID                         362447 non-null int64\n",
      "Drive                          362447 non-null int64\n",
      "qtr                            362447 non-null int64\n",
      "down                           308229 non-null float64\n",
      "time                           362259 non-null object\n",
      "TimeUnder                      362447 non-null int64\n",
      "TimeSecs                       362259 non-null float64\n",
      "PlayTimeDiff                   362073 non-null float64\n",
      "SideofField                    361997 non-null object\n",
      "yrdln                          361724 non-null float64\n",
      "yrdline100                     361724 non-null float64\n",
      "ydstogo                        362447 non-null int64\n",
      "ydsnet                         362447 non-null int64\n",
      "GoalToGo                       361724 non-null float64\n",
      "FirstDown                      336850 non-null float64\n",
      "posteam                        340468 non-null object\n",
      "DefensiveTeam                  340468 non-null object\n",
      "desc                           362445 non-null object\n",
      "PlayAttempted                  362447 non-null int64\n",
      "Yards.Gained                   362447 non-null int64\n",
      "sp                             362447 non-null int64\n",
      "Touchdown                      362447 non-null int64\n",
      "ExPointResult                  9048 non-null object\n",
      "TwoPointConv                   528 non-null object\n",
      "DefTwoPoint                    14 non-null object\n",
      "Safety                         362447 non-null int64\n",
      "Onsidekick                     362447 non-null int64\n",
      "PuntResult                     19887 non-null object\n",
      "PlayType                       362447 non-null object\n",
      "Passer                         149089 non-null object\n",
      "Passer_ID                      362447 non-null object\n",
      "PassAttempt                    362447 non-null int64\n",
      "PassOutcome                    149624 non-null object\n",
      "PassLength                     148675 non-null object\n",
      "AirYards                       362447 non-null int64\n",
      "YardsAfterCatch                362447 non-null int64\n",
      "QBHit                          362447 non-null int64\n",
      "PassLocation                   148675 non-null object\n",
      "InterceptionThrown             362447 non-null int64\n",
      "Interceptor                    4060 non-null object\n",
      "Rusher                         107193 non-null object\n",
      "Rusher_ID                      362447 non-null object\n",
      "RushAttempt                    362447 non-null int64\n",
      "RunLocation                    106260 non-null object\n",
      "RunGap                         77842 non-null object\n",
      "Receiver                       143800 non-null object\n",
      "Receiver_ID                    362447 non-null object\n",
      "Reception                      362447 non-null int64\n",
      "ReturnResult                   15900 non-null object\n",
      "Returner                       22912 non-null object\n",
      "BlockingPlayer                 106 non-null object\n",
      "Tackler1                       215264 non-null object\n",
      "Tackler2                       44402 non-null object\n",
      "FieldGoalResult                8016 non-null object\n",
      "FieldGoalDistance              7919 non-null float64\n",
      "Fumble                         362447 non-null int64\n",
      "RecFumbTeam                    3934 non-null object\n",
      "RecFumbPlayer                  3934 non-null object\n",
      "Sack                           362447 non-null int64\n",
      "Challenge.Replay               362447 non-null int64\n",
      "ChalReplayResult               2971 non-null object\n",
      "Accepted.Penalty               362447 non-null int64\n",
      "PenalizedTeam                  26085 non-null object\n",
      "PenaltyType                    14598 non-null object\n",
      "PenalizedPlayer                24964 non-null object\n",
      "Penalty.Yards                  362447 non-null int64\n",
      "PosTeamScore                   338765 non-null float64\n",
      "DefTeamScore                   338765 non-null float64\n",
      "ScoreDiff                      340472 non-null float64\n",
      "AbsScoreDiff                   338765 non-null float64\n",
      "HomeTeam                       362447 non-null object\n",
      "AwayTeam                       362447 non-null object\n",
      "Timeout_Indicator              362447 non-null int64\n",
      "Timeout_Team                   362447 non-null object\n",
      "posteam_timeouts_pre           362447 non-null int64\n",
      "HomeTimeouts_Remaining_Pre     362447 non-null int64\n",
      "AwayTimeouts_Remaining_Pre     362447 non-null int64\n",
      "HomeTimeouts_Remaining_Post    362447 non-null int64\n",
      "AwayTimeouts_Remaining_Post    362447 non-null int64\n",
      "No_Score_Prob                  362299 non-null float64\n",
      "Opp_Field_Goal_Prob            362299 non-null float64\n",
      "Opp_Safety_Prob                362299 non-null float64\n",
      "Opp_Touchdown_Prob             362299 non-null float64\n",
      "Field_Goal_Prob                362299 non-null float64\n",
      "Safety_Prob                    362299 non-null float64\n",
      "Touchdown_Prob                 362299 non-null float64\n",
      "ExPoint_Prob                   362447 non-null float64\n",
      "TwoPoint_Prob                  362447 non-null float64\n",
      "ExpPts                         362299 non-null float64\n",
      "EPA                            341997 non-null float64\n",
      "airEPA                         141766 non-null float64\n",
      "yacEPA                         141335 non-null float64\n",
      "Home_WP_pre                    340454 non-null float64\n",
      "Away_WP_pre                    340454 non-null float64\n",
      "Home_WP_post                   320639 non-null float64\n",
      "Away_WP_post                   320639 non-null float64\n",
      "Win_Prob                       340454 non-null float64\n",
      "WPA                            339232 non-null float64\n",
      "Season                         362447 non-null int64\n",
      "dtypes: float64(31), int64(31), object(38)\n",
      "memory usage: 276.5+ MB\n"
     ]
    }
   ],
   "source": [
    "# Now that we have all the modules loaded in we can now read the analytics csv\n",
    "# file and store our dataset into a dataframe called \"NFL\"\n",
    "NFL=pd.read_csv(\"NFL by Play 2009-2016 (v2).csv\",low_memory=False)\n",
    "NFL.info()"
   ]
  },
  {
   "cell_type": "markdown",
   "metadata": {},
   "source": [
    "## Cleaning the Data\n",
    "This is a very clean dataset but with any dataset we should always check to make sure."
   ]
  },
  {
   "cell_type": "code",
   "execution_count": 3,
   "metadata": {},
   "outputs": [
    {
     "data": {
      "text/plain": [
       "Date                           False\n",
       "GameID                         False\n",
       "Drive                          False\n",
       "qtr                            False\n",
       "down                            True\n",
       "time                            True\n",
       "TimeUnder                      False\n",
       "TimeSecs                        True\n",
       "PlayTimeDiff                    True\n",
       "SideofField                     True\n",
       "yrdln                           True\n",
       "yrdline100                      True\n",
       "ydstogo                        False\n",
       "ydsnet                         False\n",
       "GoalToGo                        True\n",
       "FirstDown                       True\n",
       "posteam                         True\n",
       "DefensiveTeam                   True\n",
       "desc                            True\n",
       "PlayAttempted                  False\n",
       "Yards.Gained                   False\n",
       "sp                             False\n",
       "Touchdown                      False\n",
       "ExPointResult                   True\n",
       "TwoPointConv                    True\n",
       "DefTwoPoint                     True\n",
       "Safety                         False\n",
       "Onsidekick                     False\n",
       "PuntResult                      True\n",
       "PlayType                       False\n",
       "                               ...  \n",
       "AbsScoreDiff                    True\n",
       "HomeTeam                       False\n",
       "AwayTeam                       False\n",
       "Timeout_Indicator              False\n",
       "Timeout_Team                   False\n",
       "posteam_timeouts_pre           False\n",
       "HomeTimeouts_Remaining_Pre     False\n",
       "AwayTimeouts_Remaining_Pre     False\n",
       "HomeTimeouts_Remaining_Post    False\n",
       "AwayTimeouts_Remaining_Post    False\n",
       "No_Score_Prob                   True\n",
       "Opp_Field_Goal_Prob             True\n",
       "Opp_Safety_Prob                 True\n",
       "Opp_Touchdown_Prob              True\n",
       "Field_Goal_Prob                 True\n",
       "Safety_Prob                     True\n",
       "Touchdown_Prob                  True\n",
       "ExPoint_Prob                   False\n",
       "TwoPoint_Prob                  False\n",
       "ExpPts                          True\n",
       "EPA                             True\n",
       "airEPA                          True\n",
       "yacEPA                          True\n",
       "Home_WP_pre                     True\n",
       "Away_WP_pre                     True\n",
       "Home_WP_post                    True\n",
       "Away_WP_post                    True\n",
       "Win_Prob                        True\n",
       "WPA                             True\n",
       "Season                         False\n",
       "Length: 100, dtype: bool"
      ]
     },
     "execution_count": 3,
     "metadata": {},
     "output_type": "execute_result"
    }
   ],
   "source": [
    "NFL.isnull().any()"
   ]
  },
  {
   "cell_type": "code",
   "execution_count": 4,
   "metadata": {},
   "outputs": [
    {
     "data": {
      "text/html": [
       "<div>\n",
       "<style>\n",
       "    .dataframe thead tr:only-child th {\n",
       "        text-align: right;\n",
       "    }\n",
       "\n",
       "    .dataframe thead th {\n",
       "        text-align: left;\n",
       "    }\n",
       "\n",
       "    .dataframe tbody tr th {\n",
       "        vertical-align: top;\n",
       "    }\n",
       "</style>\n",
       "<table border=\"1\" class=\"dataframe\">\n",
       "  <thead>\n",
       "    <tr style=\"text-align: right;\">\n",
       "      <th></th>\n",
       "      <th>Date</th>\n",
       "      <th>GameID</th>\n",
       "      <th>Drive</th>\n",
       "      <th>qtr</th>\n",
       "      <th>down</th>\n",
       "      <th>time</th>\n",
       "      <th>TimeUnder</th>\n",
       "      <th>TimeSecs</th>\n",
       "      <th>PlayTimeDiff</th>\n",
       "      <th>SideofField</th>\n",
       "      <th>...</th>\n",
       "      <th>EPA</th>\n",
       "      <th>airEPA</th>\n",
       "      <th>yacEPA</th>\n",
       "      <th>Home_WP_pre</th>\n",
       "      <th>Away_WP_pre</th>\n",
       "      <th>Home_WP_post</th>\n",
       "      <th>Away_WP_post</th>\n",
       "      <th>Win_Prob</th>\n",
       "      <th>WPA</th>\n",
       "      <th>Season</th>\n",
       "    </tr>\n",
       "  </thead>\n",
       "  <tbody>\n",
       "    <tr>\n",
       "      <th>0</th>\n",
       "      <td>2009-09-10</td>\n",
       "      <td>2009091000</td>\n",
       "      <td>1</td>\n",
       "      <td>1</td>\n",
       "      <td>NaN</td>\n",
       "      <td>15:00</td>\n",
       "      <td>15</td>\n",
       "      <td>3600.0</td>\n",
       "      <td>0.0</td>\n",
       "      <td>TEN</td>\n",
       "      <td>...</td>\n",
       "      <td>2.060949</td>\n",
       "      <td>NaN</td>\n",
       "      <td>NaN</td>\n",
       "      <td>0.485416</td>\n",
       "      <td>0.514584</td>\n",
       "      <td>0.547820</td>\n",
       "      <td>0.452180</td>\n",
       "      <td>0.485416</td>\n",
       "      <td>0.062403</td>\n",
       "      <td>2009</td>\n",
       "    </tr>\n",
       "    <tr>\n",
       "      <th>1</th>\n",
       "      <td>2009-09-10</td>\n",
       "      <td>2009091000</td>\n",
       "      <td>1</td>\n",
       "      <td>1</td>\n",
       "      <td>1.0</td>\n",
       "      <td>14:53</td>\n",
       "      <td>15</td>\n",
       "      <td>3593.0</td>\n",
       "      <td>7.0</td>\n",
       "      <td>PIT</td>\n",
       "      <td>...</td>\n",
       "      <td>0.128315</td>\n",
       "      <td>-1.108117</td>\n",
       "      <td>1.236432</td>\n",
       "      <td>0.547820</td>\n",
       "      <td>0.452180</td>\n",
       "      <td>0.553604</td>\n",
       "      <td>0.446396</td>\n",
       "      <td>0.547820</td>\n",
       "      <td>0.005784</td>\n",
       "      <td>2009</td>\n",
       "    </tr>\n",
       "    <tr>\n",
       "      <th>2</th>\n",
       "      <td>2009-09-10</td>\n",
       "      <td>2009091000</td>\n",
       "      <td>1</td>\n",
       "      <td>1</td>\n",
       "      <td>2.0</td>\n",
       "      <td>14:16</td>\n",
       "      <td>15</td>\n",
       "      <td>3556.0</td>\n",
       "      <td>37.0</td>\n",
       "      <td>PIT</td>\n",
       "      <td>...</td>\n",
       "      <td>-1.345917</td>\n",
       "      <td>NaN</td>\n",
       "      <td>NaN</td>\n",
       "      <td>0.553604</td>\n",
       "      <td>0.446396</td>\n",
       "      <td>0.514804</td>\n",
       "      <td>0.485196</td>\n",
       "      <td>0.553604</td>\n",
       "      <td>-0.038800</td>\n",
       "      <td>2009</td>\n",
       "    </tr>\n",
       "    <tr>\n",
       "      <th>3</th>\n",
       "      <td>2009-09-10</td>\n",
       "      <td>2009091000</td>\n",
       "      <td>1</td>\n",
       "      <td>1</td>\n",
       "      <td>3.0</td>\n",
       "      <td>13:35</td>\n",
       "      <td>14</td>\n",
       "      <td>3515.0</td>\n",
       "      <td>41.0</td>\n",
       "      <td>PIT</td>\n",
       "      <td>...</td>\n",
       "      <td>-1.804419</td>\n",
       "      <td>3.304394</td>\n",
       "      <td>-5.108813</td>\n",
       "      <td>0.514804</td>\n",
       "      <td>0.485196</td>\n",
       "      <td>0.461075</td>\n",
       "      <td>0.538925</td>\n",
       "      <td>0.514804</td>\n",
       "      <td>-0.053729</td>\n",
       "      <td>2009</td>\n",
       "    </tr>\n",
       "    <tr>\n",
       "      <th>4</th>\n",
       "      <td>2009-09-10</td>\n",
       "      <td>2009091000</td>\n",
       "      <td>1</td>\n",
       "      <td>1</td>\n",
       "      <td>4.0</td>\n",
       "      <td>13:27</td>\n",
       "      <td>14</td>\n",
       "      <td>3507.0</td>\n",
       "      <td>8.0</td>\n",
       "      <td>PIT</td>\n",
       "      <td>...</td>\n",
       "      <td>2.264203</td>\n",
       "      <td>NaN</td>\n",
       "      <td>NaN</td>\n",
       "      <td>0.461075</td>\n",
       "      <td>0.538925</td>\n",
       "      <td>0.560977</td>\n",
       "      <td>0.439023</td>\n",
       "      <td>0.461075</td>\n",
       "      <td>0.099902</td>\n",
       "      <td>2009</td>\n",
       "    </tr>\n",
       "  </tbody>\n",
       "</table>\n",
       "<p>5 rows × 100 columns</p>\n",
       "</div>"
      ],
      "text/plain": [
       "         Date      GameID  Drive  qtr  down   time  TimeUnder  TimeSecs  \\\n",
       "0  2009-09-10  2009091000      1    1   NaN  15:00         15    3600.0   \n",
       "1  2009-09-10  2009091000      1    1   1.0  14:53         15    3593.0   \n",
       "2  2009-09-10  2009091000      1    1   2.0  14:16         15    3556.0   \n",
       "3  2009-09-10  2009091000      1    1   3.0  13:35         14    3515.0   \n",
       "4  2009-09-10  2009091000      1    1   4.0  13:27         14    3507.0   \n",
       "\n",
       "   PlayTimeDiff SideofField   ...         EPA    airEPA    yacEPA  \\\n",
       "0           0.0         TEN   ...    2.060949       NaN       NaN   \n",
       "1           7.0         PIT   ...    0.128315 -1.108117  1.236432   \n",
       "2          37.0         PIT   ...   -1.345917       NaN       NaN   \n",
       "3          41.0         PIT   ...   -1.804419  3.304394 -5.108813   \n",
       "4           8.0         PIT   ...    2.264203       NaN       NaN   \n",
       "\n",
       "   Home_WP_pre  Away_WP_pre  Home_WP_post Away_WP_post  Win_Prob       WPA  \\\n",
       "0     0.485416     0.514584      0.547820     0.452180  0.485416  0.062403   \n",
       "1     0.547820     0.452180      0.553604     0.446396  0.547820  0.005784   \n",
       "2     0.553604     0.446396      0.514804     0.485196  0.553604 -0.038800   \n",
       "3     0.514804     0.485196      0.461075     0.538925  0.514804 -0.053729   \n",
       "4     0.461075     0.538925      0.560977     0.439023  0.461075  0.099902   \n",
       "\n",
       "   Season  \n",
       "0    2009  \n",
       "1    2009  \n",
       "2    2009  \n",
       "3    2009  \n",
       "4    2009  \n",
       "\n",
       "[5 rows x 100 columns]"
      ]
     },
     "execution_count": 4,
     "metadata": {},
     "output_type": "execute_result"
    }
   ],
   "source": [
    "# We are missing some data but we will scrub what exactly we want\n",
    "# So let's first take a look at what we are working with\n",
    "NFL.head()"
   ]
  },
  {
   "cell_type": "code",
   "execution_count": 13,
   "metadata": {},
   "outputs": [
    {
     "data": {
      "text/plain": [
       "16"
      ]
     },
     "execution_count": 13,
     "metadata": {},
     "output_type": "execute_result"
    }
   ],
   "source": [
    "# So far this dataset contains a lot of data. Let's trim it down to\n",
    "# the Steelers stats from last season which is 2016\n",
    "Steelers = NFL[((NFL[\"HomeTeam\"] == 'PIT') | (NFL[\"AwayTeam\"] == 'PIT')) \n",
    "             & (NFL[\"Season\"] == 2016) & (NFL['Touchdown'] == 1)]\n",
    "grouped = Steelers.groupby(by='Date')\n",
    "len(grouped)"
   ]
  },
  {
   "cell_type": "code",
   "execution_count": 23,
   "metadata": {},
   "outputs": [
    {
     "data": {
      "text/html": [
       "<div>\n",
       "<style>\n",
       "    .dataframe thead tr:only-child th {\n",
       "        text-align: right;\n",
       "    }\n",
       "\n",
       "    .dataframe thead th {\n",
       "        text-align: left;\n",
       "    }\n",
       "\n",
       "    .dataframe tbody tr th {\n",
       "        vertical-align: top;\n",
       "    }\n",
       "</style>\n",
       "<table border=\"1\" class=\"dataframe\">\n",
       "  <thead>\n",
       "    <tr style=\"text-align: right;\">\n",
       "      <th></th>\n",
       "      <th>PlayType</th>\n",
       "      <th>down</th>\n",
       "      <th>Yards.Gained</th>\n",
       "      <th>Date</th>\n",
       "      <th>qtr</th>\n",
       "      <th>desc</th>\n",
       "      <th>scorer</th>\n",
       "      <th>Rusher</th>\n",
       "      <th>Receiver</th>\n",
       "    </tr>\n",
       "  </thead>\n",
       "  <tbody>\n",
       "    <tr>\n",
       "      <th>329328</th>\n",
       "      <td>Pass</td>\n",
       "      <td>3.0</td>\n",
       "      <td>72</td>\n",
       "      <td>2016-10-09</td>\n",
       "      <td>1</td>\n",
       "      <td>(10:25) (Shotgun) B.Roethlisberger pass deep r...</td>\n",
       "      <td>S.Coates</td>\n",
       "      <td>NaN</td>\n",
       "      <td>S.Coates</td>\n",
       "    </tr>\n",
       "    <tr>\n",
       "      <th>332020</th>\n",
       "      <td>Run</td>\n",
       "      <td>1.0</td>\n",
       "      <td>60</td>\n",
       "      <td>2016-10-16</td>\n",
       "      <td>1</td>\n",
       "      <td>(5:52) D.Heyward-Bey left end for 60 yards, TO...</td>\n",
       "      <td>D.Heyward-Bey</td>\n",
       "      <td>D.Heyward-Bey</td>\n",
       "      <td>NaN</td>\n",
       "    </tr>\n",
       "    <tr>\n",
       "      <th>327736</th>\n",
       "      <td>Pass</td>\n",
       "      <td>2.0</td>\n",
       "      <td>38</td>\n",
       "      <td>2016-10-02</td>\n",
       "      <td>1</td>\n",
       "      <td>(1:28) B.Roethlisberger pass deep middle to A....</td>\n",
       "      <td>A.Brown</td>\n",
       "      <td>NaN</td>\n",
       "      <td>A.Brown</td>\n",
       "    </tr>\n",
       "    <tr>\n",
       "      <th>346084</th>\n",
       "      <td>Pass</td>\n",
       "      <td>2.0</td>\n",
       "      <td>33</td>\n",
       "      <td>2016-11-24</td>\n",
       "      <td>2</td>\n",
       "      <td>(9:08) (Pass formation) B.Roethlisberger pass ...</td>\n",
       "      <td>A.Brown</td>\n",
       "      <td>NaN</td>\n",
       "      <td>A.Brown</td>\n",
       "    </tr>\n",
       "    <tr>\n",
       "      <th>327717</th>\n",
       "      <td>Pass</td>\n",
       "      <td>3.0</td>\n",
       "      <td>31</td>\n",
       "      <td>2016-10-02</td>\n",
       "      <td>1</td>\n",
       "      <td>(7:34) (Shotgun) B.Roethlisberger pass deep le...</td>\n",
       "      <td>D.Heyward-Bey</td>\n",
       "      <td>NaN</td>\n",
       "      <td>D.Heyward-Bey</td>\n",
       "    </tr>\n",
       "  </tbody>\n",
       "</table>\n",
       "</div>"
      ],
      "text/plain": [
       "       PlayType  down  Yards.Gained        Date  qtr  \\\n",
       "329328     Pass   3.0            72  2016-10-09    1   \n",
       "332020      Run   1.0            60  2016-10-16    1   \n",
       "327736     Pass   2.0            38  2016-10-02    1   \n",
       "346084     Pass   2.0            33  2016-11-24    2   \n",
       "327717     Pass   3.0            31  2016-10-02    1   \n",
       "\n",
       "                                                     desc         scorer  \\\n",
       "329328  (10:25) (Shotgun) B.Roethlisberger pass deep r...       S.Coates   \n",
       "332020  (5:52) D.Heyward-Bey left end for 60 yards, TO...  D.Heyward-Bey   \n",
       "327736  (1:28) B.Roethlisberger pass deep middle to A....        A.Brown   \n",
       "346084  (9:08) (Pass formation) B.Roethlisberger pass ...        A.Brown   \n",
       "327717  (7:34) (Shotgun) B.Roethlisberger pass deep le...  D.Heyward-Bey   \n",
       "\n",
       "               Rusher       Receiver  \n",
       "329328            NaN       S.Coates  \n",
       "332020  D.Heyward-Bey            NaN  \n",
       "327736            NaN        A.Brown  \n",
       "346084            NaN        A.Brown  \n",
       "327717            NaN  D.Heyward-Bey  "
      ]
     },
     "execution_count": 23,
     "metadata": {},
     "output_type": "execute_result"
    }
   ],
   "source": [
    "# Now that we have all the Steelers data let's look at all the offensive plays\n",
    "offense = Steelers[(Steelers[\"DefensiveTeam\"] != 'PIT')]\n",
    "\n",
    "# We are going to sort it by yards gained including the top 100 plays\n",
    "Top_Plays = offense.sort_values(by='Yards.Gained',ascending=False)[:48]\n",
    "\n",
    "# Now let's make sure we can see both rushers and recievers\n",
    "Top_Plays['scorer'] = Top_Plays[\"Rusher\"]\n",
    "Top_Plays['scorer'].fillna(Top_Plays['Receiver'], inplace = True)\n",
    "\n",
    "# Let's look at what we have\n",
    "Touchdowns = Top_Plays[['PlayType',\n",
    "          'down',\n",
    "          'Yards.Gained',\n",
    "          'Date',\n",
    "          'qtr',\n",
    "          'desc',\n",
    "          'scorer',\n",
    "          'Rusher',\n",
    "          'Receiver']]\n",
    "Touchdowns.head()"
   ]
  },
  {
   "cell_type": "markdown",
   "metadata": {},
   "source": [
    "## The Data (What We Are Working With)"
   ]
  },
  {
   "cell_type": "code",
   "execution_count": 24,
   "metadata": {},
   "outputs": [
    {
     "data": {
      "text/plain": [
       "(48, 9)"
      ]
     },
     "execution_count": 24,
     "metadata": {},
     "output_type": "execute_result"
    }
   ],
   "source": [
    "# Currently, each row indicates a play. Each play also represents a\n",
    "# touchdown scored. As we can see we have a total of 48 touchdowns scored\n",
    "# and 9 features that we can observe\n",
    "Touchdowns.shape"
   ]
  },
  {
   "cell_type": "code",
   "execution_count": 25,
   "metadata": {},
   "outputs": [
    {
     "data": {
      "text/plain": [
       "PlayType         object\n",
       "down            float64\n",
       "Yards.Gained      int64\n",
       "Date             object\n",
       "qtr               int64\n",
       "desc             object\n",
       "scorer           object\n",
       "Rusher           object\n",
       "Receiver         object\n",
       "dtype: object"
      ]
     },
     "execution_count": 25,
     "metadata": {},
     "output_type": "execute_result"
    }
   ],
   "source": [
    "# Let's look at our datatypes\n",
    "Touchdowns.dtypes"
   ]
  },
  {
   "cell_type": "code",
   "execution_count": 27,
   "metadata": {},
   "outputs": [
    {
     "data": {
      "text/html": [
       "<div>\n",
       "<style>\n",
       "    .dataframe thead tr:only-child th {\n",
       "        text-align: right;\n",
       "    }\n",
       "\n",
       "    .dataframe thead th {\n",
       "        text-align: left;\n",
       "    }\n",
       "\n",
       "    .dataframe tbody tr th {\n",
       "        vertical-align: top;\n",
       "    }\n",
       "</style>\n",
       "<table border=\"1\" class=\"dataframe\">\n",
       "  <thead>\n",
       "    <tr style=\"text-align: right;\">\n",
       "      <th></th>\n",
       "      <th>down</th>\n",
       "      <th>Yards.Gained</th>\n",
       "      <th>qtr</th>\n",
       "    </tr>\n",
       "  </thead>\n",
       "  <tbody>\n",
       "    <tr>\n",
       "      <th>count</th>\n",
       "      <td>48.000000</td>\n",
       "      <td>48.000000</td>\n",
       "      <td>48.000000</td>\n",
       "    </tr>\n",
       "    <tr>\n",
       "      <th>mean</th>\n",
       "      <td>2.145833</td>\n",
       "      <td>15.041667</td>\n",
       "      <td>2.729167</td>\n",
       "    </tr>\n",
       "    <tr>\n",
       "      <th>std</th>\n",
       "      <td>0.922291</td>\n",
       "      <td>14.996394</td>\n",
       "      <td>1.283936</td>\n",
       "    </tr>\n",
       "    <tr>\n",
       "      <th>min</th>\n",
       "      <td>1.000000</td>\n",
       "      <td>0.000000</td>\n",
       "      <td>1.000000</td>\n",
       "    </tr>\n",
       "    <tr>\n",
       "      <th>25%</th>\n",
       "      <td>1.000000</td>\n",
       "      <td>4.000000</td>\n",
       "      <td>1.750000</td>\n",
       "    </tr>\n",
       "    <tr>\n",
       "      <th>50%</th>\n",
       "      <td>2.000000</td>\n",
       "      <td>10.000000</td>\n",
       "      <td>3.000000</td>\n",
       "    </tr>\n",
       "    <tr>\n",
       "      <th>75%</th>\n",
       "      <td>3.000000</td>\n",
       "      <td>23.000000</td>\n",
       "      <td>4.000000</td>\n",
       "    </tr>\n",
       "    <tr>\n",
       "      <th>max</th>\n",
       "      <td>4.000000</td>\n",
       "      <td>72.000000</td>\n",
       "      <td>5.000000</td>\n",
       "    </tr>\n",
       "  </tbody>\n",
       "</table>\n",
       "</div>"
      ],
      "text/plain": [
       "            down  Yards.Gained        qtr\n",
       "count  48.000000     48.000000  48.000000\n",
       "mean    2.145833     15.041667   2.729167\n",
       "std     0.922291     14.996394   1.283936\n",
       "min     1.000000      0.000000   1.000000\n",
       "25%     1.000000      4.000000   1.750000\n",
       "50%     2.000000     10.000000   3.000000\n",
       "75%     3.000000     23.000000   4.000000\n",
       "max     4.000000     72.000000   5.000000"
      ]
     },
     "execution_count": 27,
     "metadata": {},
     "output_type": "execute_result"
    }
   ],
   "source": [
    "# To better describe the data we can use the describe function\n",
    "Touchdowns.describe()"
   ]
  },
  {
   "cell_type": "code",
   "execution_count": 34,
   "metadata": {},
   "outputs": [
    {
     "data": {
      "text/html": [
       "<div>\n",
       "<style>\n",
       "    .dataframe thead tr:only-child th {\n",
       "        text-align: right;\n",
       "    }\n",
       "\n",
       "    .dataframe thead th {\n",
       "        text-align: left;\n",
       "    }\n",
       "\n",
       "    .dataframe tbody tr th {\n",
       "        vertical-align: top;\n",
       "    }\n",
       "</style>\n",
       "<table border=\"1\" class=\"dataframe\">\n",
       "  <thead>\n",
       "    <tr style=\"text-align: right;\">\n",
       "      <th></th>\n",
       "      <th>down</th>\n",
       "      <th>Yards.Gained</th>\n",
       "      <th>qtr</th>\n",
       "    </tr>\n",
       "    <tr>\n",
       "      <th>scorer</th>\n",
       "      <th></th>\n",
       "      <th></th>\n",
       "      <th></th>\n",
       "    </tr>\n",
       "  </thead>\n",
       "  <tbody>\n",
       "    <tr>\n",
       "      <th>A.Brown</th>\n",
       "      <td>2.416667</td>\n",
       "      <td>20.500000</td>\n",
       "      <td>2.666667</td>\n",
       "    </tr>\n",
       "    <tr>\n",
       "      <th>B.Roethlisberger</th>\n",
       "      <td>1.000000</td>\n",
       "      <td>4.000000</td>\n",
       "      <td>4.000000</td>\n",
       "    </tr>\n",
       "    <tr>\n",
       "      <th>C.Hamilton</th>\n",
       "      <td>1.500000</td>\n",
       "      <td>24.500000</td>\n",
       "      <td>4.500000</td>\n",
       "    </tr>\n",
       "    <tr>\n",
       "      <th>D.Ayers</th>\n",
       "      <td>3.000000</td>\n",
       "      <td>11.000000</td>\n",
       "      <td>4.000000</td>\n",
       "    </tr>\n",
       "    <tr>\n",
       "      <th>D.Heyward-Bey</th>\n",
       "      <td>2.333333</td>\n",
       "      <td>35.000000</td>\n",
       "      <td>1.333333</td>\n",
       "    </tr>\n",
       "    <tr>\n",
       "      <th>D.Williams</th>\n",
       "      <td>1.833333</td>\n",
       "      <td>6.500000</td>\n",
       "      <td>3.666667</td>\n",
       "    </tr>\n",
       "    <tr>\n",
       "      <th>E.Rogers</th>\n",
       "      <td>2.000000</td>\n",
       "      <td>10.000000</td>\n",
       "      <td>2.333333</td>\n",
       "    </tr>\n",
       "    <tr>\n",
       "      <th>J.James</th>\n",
       "      <td>1.666667</td>\n",
       "      <td>6.333333</td>\n",
       "      <td>2.333333</td>\n",
       "    </tr>\n",
       "    <tr>\n",
       "      <th>L.Bell</th>\n",
       "      <td>1.777778</td>\n",
       "      <td>4.222222</td>\n",
       "      <td>2.444444</td>\n",
       "    </tr>\n",
       "    <tr>\n",
       "      <th>L.Green</th>\n",
       "      <td>3.000000</td>\n",
       "      <td>20.000000</td>\n",
       "      <td>3.000000</td>\n",
       "    </tr>\n",
       "    <tr>\n",
       "      <th>M.Wheaton</th>\n",
       "      <td>3.000000</td>\n",
       "      <td>30.000000</td>\n",
       "      <td>3.000000</td>\n",
       "    </tr>\n",
       "    <tr>\n",
       "      <th>S.Coates</th>\n",
       "      <td>3.000000</td>\n",
       "      <td>38.500000</td>\n",
       "      <td>2.500000</td>\n",
       "    </tr>\n",
       "    <tr>\n",
       "      <th>X.Grimble</th>\n",
       "      <td>1.500000</td>\n",
       "      <td>20.000000</td>\n",
       "      <td>1.000000</td>\n",
       "    </tr>\n",
       "  </tbody>\n",
       "</table>\n",
       "</div>"
      ],
      "text/plain": [
       "                      down  Yards.Gained       qtr\n",
       "scorer                                            \n",
       "A.Brown           2.416667     20.500000  2.666667\n",
       "B.Roethlisberger  1.000000      4.000000  4.000000\n",
       "C.Hamilton        1.500000     24.500000  4.500000\n",
       "D.Ayers           3.000000     11.000000  4.000000\n",
       "D.Heyward-Bey     2.333333     35.000000  1.333333\n",
       "D.Williams        1.833333      6.500000  3.666667\n",
       "E.Rogers          2.000000     10.000000  2.333333\n",
       "J.James           1.666667      6.333333  2.333333\n",
       "L.Bell            1.777778      4.222222  2.444444\n",
       "L.Green           3.000000     20.000000  3.000000\n",
       "M.Wheaton         3.000000     30.000000  3.000000\n",
       "S.Coates          3.000000     38.500000  2.500000\n",
       "X.Grimble         1.500000     20.000000  1.000000"
      ]
     },
     "execution_count": 34,
     "metadata": {},
     "output_type": "execute_result"
    }
   ],
   "source": [
    "# Let's also take a look at each player who scored\n",
    "Player = Touchdowns.groupby('scorer')\n",
    "Player.mean()"
   ]
  },
  {
   "cell_type": "markdown",
   "metadata": {},
   "source": [
    "## General Data Visualization"
   ]
  },
  {
   "cell_type": "code",
   "execution_count": 39,
   "metadata": {},
   "outputs": [
    {
     "data": {
      "image/png": "[encoded data removed]",
      "text/plain": [
       "<matplotlib.figure.Figure at 0x21603a687b8>"
      ]
     },
     "metadata": {},
     "output_type": "display_data"
    }
   ],
   "source": [
    "# Let's see who has the most touchdowns out of all 48\n",
    "x = sns.countplot(Top_Plays['scorer'])\n",
    "plt.setp(x.get_xticklabels(), rotation=45)\n",
    "plt.tight_layout()\n",
    "plt.show()"
   ]
  },
  {
   "cell_type": "markdown",
   "metadata": {},
   "source": [
    "As we can see our two leading scorers were Antonio Brown and Levion Bell.\n",
    "* 4 players were tied for fewest touchdowns scored at 1\n",
    "* Antonio Brown had the most touchdowns scored at 12."
   ]
  },
  {
   "cell_type": "code",
   "execution_count": 42,
   "metadata": {},
   "outputs": [
    {
     "data": {
      "text/plain": [
       "<matplotlib.axes._subplots.AxesSubplot at 0x21603c879e8>"
      ]
     },
     "execution_count": 42,
     "metadata": {},
     "output_type": "execute_result"
    },
    {
     "data": {
      "image/png": "[encoded data removed]",
      "text/plain": [
       "<matplotlib.figure.Figure at 0x21603ca8ac8>"
      ]
     },
     "metadata": {},
     "output_type": "display_data"
    }
   ],
   "source": [
    "# Let's look at the play breakdown with a bar plot\n",
    "sns.countplot(x=\"PlayType\", data=Top_Plays)"
   ]
  },
  {
   "cell_type": "markdown",
   "metadata": {},
   "source": [
    "When looking at the information above, We get three playtypes because one was a punt return for a touchdown.  We can also see the Steelers scored more on pass plays than they did on the run."
   ]
  },
  {
   "cell_type": "code",
   "execution_count": 43,
   "metadata": {},
   "outputs": [
    {
     "data": {
      "image/png": "[encoded data removed]",
      "text/plain": [
       "<matplotlib.figure.Figure at 0x21603b3bf98>"
      ]
     },
     "metadata": {},
     "output_type": "display_data"
    }
   ],
   "source": [
    "# Next we will look at a scoring distribution from down, \n",
    "# yards gained, and quarter.\n",
    "fig, axs = plt.subplots(ncols = 3, figsize=(12,6))\n",
    "sns.distplot(Top_Plays[\"down\"], ax=axs[0])\n",
    "sns.distplot(Top_Plays[\"Yards.Gained\"], ax=axs[1])\n",
    "sns.distplot(Top_Plays[\"qtr\"], ax=axs[2])\n",
    "plt.tight_layout()\n",
    "plt.show()"
   ]
  },
  {
   "cell_type": "markdown",
   "metadata": {},
   "source": [
    "As we can from the distribution plot above:\n",
    "* The average down scored on was 2nd down.\n",
    "* The average yards gained during a scoring play was around 5 yards.\n",
    "* The average quarter scored in was the 4th quarter."
   ]
  },
  {
   "cell_type": "code",
   "execution_count": 50,
   "metadata": {},
   "outputs": [
    {
     "data": {
      "text/plain": [
       "<matplotlib.axes._subplots.AxesSubplot at 0x216039ba9e8>"
      ]
     },
     "execution_count": 50,
     "metadata": {},
     "output_type": "execute_result"
    },
    {
     "data": {
      "image/png": "[encoded data removed]",
      "text/plain": [
       "<matplotlib.figure.Figure at 0x216039fe748>"
      ]
     },
     "metadata": {},
     "output_type": "display_data"
    }
   ],
   "source": [
    "#So who scored the most between Receivers and Rushers?\n",
    "# First let's look at rushers:\n",
    "runs = offense[(offense[\"PlayType\"] == 'Run')]\n",
    "sns.countplot(x=\"Rusher\",data=runs)"
   ]
  },
  {
   "cell_type": "code",
   "execution_count": 52,
   "metadata": {},
   "outputs": [
    {
     "data": {
      "image/png": "[encoded data removed]",
      "text/plain": [
       "<matplotlib.figure.Figure at 0x21603c33cc0>"
      ]
     },
     "metadata": {},
     "output_type": "display_data"
    }
   ],
   "source": [
    "# Next we will look at Receivers:\n",
    "passes = offense[(offense[\"PlayType\"] == 'Pass')]\n",
    "x = sns.countplot(x=\"Receiver\",data=passes)\n",
    "plt.setp(x.get_xticklabels(), rotation=45)\n",
    "plt.show()"
   ]
  },
  {
   "cell_type": "markdown",
   "metadata": {},
   "source": [
    "## Summary\n",
    "Based on the data interpreted in this dataset, we can conclude the following:\n",
    "* The Steelers had a total of 48 touchdowns scored in 2016\n",
    "    * Of the 48 only 13 players on the team scored\n",
    "    * 34 were passing touchdowns\n",
    "    * 13 were rushing touchdowns\n",
    "    * 1 was a punt return for a touchdown\n",
    "* Levion Bell lead the team in rushing touchdowns\n",
    "    * 7 Total\n",
    "* Antonio Brown lead the team with receiving touchdowns and most toucdowns scored\n",
    "    * 12 Total"
   ]
  },
  {
   "cell_type": "code",
   "execution_count": null,
   "metadata": {
    "collapsed": true
   },
   "outputs": [],
   "source": []
  }
 ],
 "metadata": {
  "kernelspec": {
   "display_name": "Python 3",
   "language": "python",
   "name": "python3"
  },
  "language_info": {
   "codemirror_mode": {
    "name": "ipython",
    "version": 3
   },
   "file_extension": ".py",
   "mimetype": "text/x-python",
   "name": "python",
   "nbconvert_exporter": "python",
   "pygments_lexer": "ipython3",
   "version": "3.6.1"
  }
 },
 "nbformat": 4,
 "nbformat_minor": 2
}
